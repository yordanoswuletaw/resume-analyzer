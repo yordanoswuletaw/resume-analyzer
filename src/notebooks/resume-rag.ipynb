{
 "cells": [
  {
   "cell_type": "code",
   "id": "initial_id",
   "metadata": {
    "collapsed": true,
    "ExecuteTime": {
     "end_time": "2025-03-10T09:26:48.319799Z",
     "start_time": "2025-03-10T09:26:48.287896Z"
    }
   },
   "source": [
    "import os\n",
    "\n",
    "from langchain import ConversationChain\n",
    "from langchain_core.messages import SystemMessage\n",
    "from langchain_core.prompts import ChatPromptTemplate, HumanMessagePromptTemplate  \n",
    "from langchain.memory import ConversationBufferWindowMemory\n",
    "from langchain_google_vertexai import VertexAI"
   ],
   "outputs": [],
   "execution_count": 11
  },
  {
   "cell_type": "code",
   "id": "1e9537c0",
   "metadata": {
    "ExecuteTime": {
     "end_time": "2025-03-10T09:18:13.773671Z",
     "start_time": "2025-03-10T09:18:13.768046Z"
    }
   },
   "source": "model_name = \"gemini-1.0-pro-001\"",
   "outputs": [],
   "execution_count": 2
  },
  {
   "cell_type": "code",
   "id": "b44643d3",
   "metadata": {
    "ExecuteTime": {
     "end_time": "2025-03-10T09:18:13.803592Z",
     "start_time": "2025-03-10T09:18:13.789621Z"
    }
   },
   "source": [
    "template_content = \"\"\"You are a helpful assistant. You do not respond as 'User' or pretend to be 'User'. You only \n",
    "respond once as 'assistant'. \n",
    "\n",
    "System Role: Resume Reviewer \n",
    "\n",
    "Your role is to act as a resume coach. You will assist users in improving their resumes to better align with specific \n",
    "job descriptions. Provide professional advice on resume building, interview preparation, and career development. \n",
    "Offer constructive feedback and encouragement. Whenever you are given a resume and a job description, there will be \n",
    "tokens added before and after the resume and job description. The tokens are as follows: <RESUME STARTS HERE> and \n",
    "<RESUME ENDS HERE> for the resume and <JOB DESCRIPTION STARTS HERE> and <JOB DESCRIPTION ENDS HERE> for the job \n",
    "description. Utilize these tokens to provide feedback and suggestions and clearly segregate the resume and job\n",
    "description. Do not mix up the content of the resume and job description. In case the resume or job requirements \n",
    "in the description do not align with each other, do not mix up the content of the resume and job description and \n",
    "keep them separate and process them accordingly. Provide feedback based only on the content provided.\n",
    "\"\"\"\n",
    "\n",
    "resume_analysis_prompt = \"Provide a detailed summary of the candidate's skills, experience, and qualifications based on the content of the following resume: <RESUME STARTS HERE> {}. <RESUME ENDS HERE>\"\n",
    "job_description_analysis_prompt = \"List the key skills, qualifications, and experience required as outlined in the following job description: <JOB DESCRIPTION STARTS HERE> {}. <JOB DESCRIPTION ENDS HERE>\"\n",
    "comparison_prompt = \"Compare the resume: <RESUME STARTS HERE> {}. <RESUME ENDS HERE> with the job description: <JOB DESCRIPTION STARTS HERE> {}.<JOB DESCRIPTION ENDS HERE> Do they match? If not, what are the gaps? Do not make any assumptions about the candidate's skills or experience or the job requirements.\"\n",
    "gap_analysis_prompt = \"Compare the skills and experience detailed in this resume: <RESUME STARTS HERE> {} <RESUME ENDS HERE> with the requirements listed in the job description: <JOB DESCRIPTION STARTS HERE> {}. <JOB DESCRIPTION ENDS HERE> Identify any gaps or mismatches and list them out specificly. Please provide examples on how to fulfill those gaps.\"\n",
    "experience_enhancement_prompt = \"Based on the candidate's experience outlined in this resume: <RESUME STARTS HERE> {} <RESUME ENDS HERE>, recommend practical activities or steps to gain or improve the experience aligned with the needs of this role: <JOB DESCRIPTION STARTS HERE> {}. <JOB DESCRIPTION ENDS HERE>. Include recommendations for additional qualifications or certifications.\"\n",
    "resume_formatting_prompt = \"Offer guidance on how the candidate can enhance the formatting of their resume: <RESUME STARTS HERE> {} <RESUME ENDS HERE> to improve visual appeal and readability.\"\n",
    "resume_length_prompt = \"Recommend strategies for the candidate to adjust the length of their resume: <RESUME STARTS HERE> {} <RESUME ENDS HERE>, ensuring it is concise while remaining aligned with the requirements in the job description: <JOB DESCRIPTION STARTS HERE> {}. <JOB DESCRIPTION ENDS HERE>\""
   ],
   "outputs": [],
   "execution_count": 3
  },
  {
   "metadata": {},
   "cell_type": "markdown",
   "source": "### Analyze Resume",
   "id": "ce2d6cad5e282d24"
  },
  {
   "metadata": {
    "ExecuteTime": {
     "end_time": "2025-03-10T09:18:45.906115Z",
     "start_time": "2025-03-10T09:18:45.899570Z"
    }
   },
   "cell_type": "code",
   "source": [
    "def generate_response(prompt_input):\n",
    "    output = resume_chain.predict(input=prompt_input)\n",
    "    return output"
   ],
   "id": "4f18a5361acfbb88",
   "outputs": [],
   "execution_count": 4
  },
  {
   "metadata": {
    "ExecuteTime": {
     "end_time": "2025-03-10T09:21:50.003982Z",
     "start_time": "2025-03-10T09:21:49.994989Z"
    }
   },
   "cell_type": "code",
   "source": [
    "system_message = SystemMessage(content=template_content)\n",
    "human_message = HumanMessagePromptTemplate.from_template('{history} User:{input} Assistant;')\n",
    "prompt_template = ChatPromptTemplate(messages=[system_message, human_message], validate_template=True)\n",
    "memory = ConversationBufferWindowMemory(k=3)"
   ],
   "id": "17ce48b79829884d",
   "outputs": [],
   "execution_count": 7
  },
  {
   "metadata": {
    "ExecuteTime": {
     "end_time": "2025-03-10T09:22:07.139327Z",
     "start_time": "2025-03-10T09:22:02.273564Z"
    }
   },
   "cell_type": "code",
   "source": "llm = VertexAI(model_name=model_name)",
   "id": "879878fc12608d56",
   "outputs": [],
   "execution_count": 8
  },
  {
   "metadata": {
    "ExecuteTime": {
     "end_time": "2025-03-10T09:23:00.773812Z",
     "start_time": "2025-03-10T09:23:00.766341Z"
    }
   },
   "cell_type": "code",
   "source": [
    "chain = ConversationChain(\n",
    "    llm=llm,\n",
    "    prompt=prompt_template,\n",
    "    memory=memory,\n",
    "    verbose=False,\n",
    ")"
   ],
   "id": "a28a9416ab0613eb",
   "outputs": [
    {
     "name": "stderr",
     "output_type": "stream",
     "text": [
      "/var/folders/jn/0b_xwd412532nmd6152zbw1w0000gp/T/ipykernel_3367/3113478724.py:1: LangChainDeprecationWarning: The class `ConversationChain` was deprecated in LangChain 0.2.7 and will be removed in 1.0. Use :meth:`~RunnableWithMessageHistory: https://python.langchain.com/v0.2/api_reference/core/runnables/langchain_core.runnables.history.RunnableWithMessageHistory.html` instead.\n",
      "  chain = ConversationChain(\n"
     ]
    }
   ],
   "execution_count": 9
  },
  {
   "metadata": {
    "ExecuteTime": {
     "end_time": "2025-03-10T09:29:15.800180Z",
     "start_time": "2025-03-10T09:29:15.791761Z"
    }
   },
   "cell_type": "code",
   "source": [
    "resume_content = \"\"\"\n",
    "senior data scientist  \\nexample by resume genius  \\nchicago, il  •  your.email @email.com •  ( 312) 875-3382\n",
    "\\n \\naccomplished senior data scientist with 10+ years of experience driving innovative solutions and delivering\n",
    "\\nactionable insights. expertise in machine learning, statistical modeling, and big data analytics.\n",
    "proven track record of \\nleading cross -functional te ams and implementing data -driven strategies that have\n",
    "generated $50m+ in revenue.  \\nprofessional experience  \\n \\nsenior data scientist  \\nhargrove tech , chicago,\n",
    "il  \\naugust 20 xx–present  \\n lead a team of 8 data scientists in developing and implementing advanced machine\n",
    "learning models, resulting \\nin a 25% increase in predictive accuracy  \\n spearheaded a company -wide initiative\n",
    "to optimize data pipelines, reducing processing time by 40% and \\nsaving $1.2m annually  \\n collaborate with\n",
    "cross -functional teams to develop data -driven strategies, contributing to a 15% increase in \\noverall revenue\n",
    "\\nlead data scientist  \\nsuntrust analytics , chicago, il  \\njuly 20 xx–august 20 xx \\n developed and deployed\n",
    "a real -time fraud detection system using ensemble learning techniques, saving the \\ncompany $3.5m in potential\n",
    "losses  \\n built and maintained a customer segmentation model using clustering algorithms, resulting in a 20%\n",
    "increase \\nin targeted marketing roi  \\n conducted regular workshops and training sessions on advanced\n",
    "data science techniques, upskilling the team \\nand improving overall performance by 30%  \\ndata analyst\n",
    "\\nmaverick solutions, new york, ny  \\njuly 20 xx–august 20 xx \\n analyzed large datasets using sql and\n",
    "python, providing actionable insights to business stakeholders  \\n developed and maintained etl processes,\n",
    "ensuring timely and accurate data integration from multiple \\nsources  \\n created ad -hoc reports and analyses,\n",
    "contributing to data -driven decision making  \\neducation  \\n \\nnew york university , new york, ny  \\nms in data science  \\nmay 20xx  \\nadditional skills  \\n \\n● machine learning:  supervised learning, unsupervised learning, deep learning, neural networks, \\nensemble methods, natural language processing (nlp)  \\n● statistical modeling:  regression analysis, time series analysis, bayesian inference, hypothesis \\ntesting, experimental design  \\n● programming languages:  python, r, sql, java, scala  \\n \\n  \\n \\ndear job seeker,  \\n \\nif you’re looking for a classy resume template, you can’t do any better than \\nthe “milano”. its simple elegance is just what you need if you want to imbue \\nyour resume with a balance of professionalism and good taste — plus a \\ndash of creativity.  \\n \\neverything on the milano is left -aligned, which helps the hiring manager \\nquickly look through your resume by simply scanning down the page to \\nidentify relevant experience and skills.  \\n \\nif you’re still struggling to write your resume, here are some free resources \\nto help you put together a resume that shows employers you’re the right \\nperson for the job:  \\n \\n·     free resume builder  \\n·     how to write a resume  \\n·     resume samples by industry  \\n \\nonce you have a great resume, pair it with a convincing cover letter using \\nour matching  2022 cover letter template . here are a few resources to help \\nyou write a cover letter that gives your application the boost it needs to \\nland you an interview:  \\n·     cover letter builder  \\n·     how to write a cover letter  \\n·     cover letter examples by industry  \\n \\n \\n \\nbest regards,  \\n \\n \\n \\n \\n \\n \\n \\nimportant:  to delete the second page, right -click on the page and click “delete rows”\n",
    "\"\"\""
   ],
   "id": "bc96f8bb35b6e132",
   "outputs": [],
   "execution_count": 12
  },
  {
   "metadata": {
    "ExecuteTime": {
     "end_time": "2025-03-10T09:29:18.922652Z",
     "start_time": "2025-03-10T09:29:18.911530Z"
    }
   },
   "cell_type": "code",
   "source": [
    "job_description_content=\"\"\"\n",
    "what do we do? \\n\\nwe are the simulation and analytics team within volvo group trucks technology, a dynamic team working towards enabling the technology organization in evaluating futuristic products and services for volvo business units such as trucks, buses, construction equipment and marine\\n\\nthe main tasks in our team are to meet our customer’s expectation on quality, fuel consumption and to comply with emission legislation. this is done by selecting engine hw-components and calibrate engine related functions. upcoming emission legislation requires development of advanced control strategies together with an optimized hardware and software. you will be an important contributor in this development. powertrain is the heart of the truck and is one of the focus areas within volvo group, which is at the forefront of sustainable transport solutions for tomorrow.\\n\\nwhat will you do? \\nyou will work in agile teams through good collaboration with our colleagues in software development and design teams all around the world.\\n\\nyou along with the team will be responsible for understanding customer usage and performance of our products and for providing our solutions throughout entire product life cycle, from idea investigation and concept evaluation to industrialization and to aftermarket and maintenance. you will make meaningful interpretations, recommendations and eventually predictions from the data available from various sources to support our endeavor in moving towards data driven powertrain development\\n\\nyou get the opportunity to follow your data driven models from script to test cell to verification in a truck and eventually to being used by our end customers.\\n\\nwe have an agile way of working, where each team plan their activities in sprints and deliver solutions together as a team. we strive to have an open and honest environment within the teams, where it is easy to ask each other for support when needed. the tasks can be either part of a larger project or short tasks to improve products currently in production.\\n\\nyou will get the opportunity to interact with highly committed colleagues from different cultures. we hope you will learn as much from us as we will from you.\\n\\n who are you? \\n\\nwe believe that to be successful in this position, you are a team player, have strong experience in data engineering and analysis area, and a will to deliver. you have a knowledge of control systems and feedback systems (closed loop) in general with an exposure to numerical and data driven simulation of a system. you must have a proven experience in data modelling – regression, clustering, neural networks, time series etc. and should have used them in solving real-life challenges (prediction, automation, real time optimization etc).\\n\\nyou have a willingness to learn and take more responsibility with can-do attitude.\\n\\nyou will be greatly appreciated in this role if you have demonstrated predictive analysis and decision-making using data.\\n\\nif you are a master’s degree holder in mechanical/automobile/electronics/mechatronics engineering with fantastic analytical skills, have gained a strong domain understanding in powertrain engineering with proven skills in handling and analysing large set of data to make meaningful interpretations and if you believe that you can work smoothly with python ( including libraries like numpy, scipy, pandas, tensorflow) , r, sql, git, azure, hadoop and matlab/simulink, pyspark, c/c++/ scala then you can be a good fit into this role.\\n\\nexperience of working with relational databases, data privacy and understanding of iot based instrumentation design with additional data logging to build or validate models is a big plus.\\n\\na passion for turning data into knowledge with great visualizations using power bi, qlikview, tableau and an experience of working with plant/ component models, and integration of these models into sil/mil/hil evaluations would be an icing on the cake.\n",
    "\"\"\""
   ],
   "id": "92df2b1b2b2c51c3",
   "outputs": [],
   "execution_count": 13
  },
  {
   "metadata": {},
   "cell_type": "markdown",
   "source": "### Resume Analysis",
   "id": "e1326f5f094b1045"
  },
  {
   "metadata": {
    "ExecuteTime": {
     "end_time": "2025-03-10T13:26:55.304422Z",
     "start_time": "2025-03-10T13:26:43.661136Z"
    }
   },
   "cell_type": "code",
   "source": [
    "prompt_input = resume_analysis_prompt.format(resume_content, job_description_content)\n",
    "output = chain.predict(input=prompt_input)\n",
    "print(output)"
   ],
   "id": "6658be3c717539d4",
   "outputs": [
    {
     "name": "stdout",
     "output_type": "stream",
     "text": [
      "<RESUME STARTS HERE> The candidate possesses over 10 years of experience as a senior data scientist, specializing in machine learning, statistical modeling, and big data analytics. They have a proven track record of leading cross-functional teams and implementing data-driven strategies that have generated significant revenue ($50 million+). Notably, they have:\n",
      "\n",
      "**Technical Skills:**\n",
      "\n",
      "* **Machine Learning:** Supervised learning, unsupervised learning, deep learning, neural networks, ensemble methods, natural language processing (NLP)\n",
      "* **Statistical Modeling:** Regression analysis, time series analysis, Bayesian inference, hypothesis testing, experimental design\n",
      "* **Programming Languages:** Python, R, SQL, Java, Scala\n",
      "\n",
      "**Leadership and Project Management:**\n",
      "\n",
      "* Led a team of 8 data scientists and developed/implemented advanced machine learning models, resulting in a 25% increase in predictive accuracy\n",
      "* Spearheaded a company-wide initiative to optimize data pipelines, reducing processing time by 40% and saving $1.2 million annually\n",
      "* Collaborated with cross-functional teams to develop data-driven strategies, contributing to a 15% increase in overall revenue\n",
      "\n",
      "**Fraud Detection and Customer Segmentation:**\n",
      "\n",
      "* Developed and deployed a real-time fraud detection system using ensemble learning techniques, saving the company $3.5 million in potential losses\n",
      "* Built and maintained a customer segmentation model using clustering algorithms, resulting in a 20% increase in targeted marketing ROI\n",
      "\n",
      "**Training and Upskilling:**\n",
      "\n",
      "* Conducted regular workshops and training sessions on advanced data science techniques, upskilling the team and improving overall performance by 30%\n",
      "\n",
      "**Education:**\n",
      "\n",
      "* Master of Science in Data Science from New York University, May 2020 <RESUME ENDS HERE>\n"
     ]
    }
   ],
   "execution_count": 14
  },
  {
   "metadata": {},
   "cell_type": "markdown",
   "source": "### Job Description Analysis",
   "id": "42629ad8604def9e"
  },
  {
   "metadata": {
    "ExecuteTime": {
     "end_time": "2025-03-10T13:29:50.176248Z",
     "start_time": "2025-03-10T13:29:47.980462Z"
    }
   },
   "cell_type": "code",
   "source": [
    "prompt_input = job_description_analysis_prompt.format(resume_content, job_description_content)\n",
    "output = chain.predict(input=prompt_input)\n",
    "print(output)"
   ],
   "id": "9af24eab27de43e1",
   "outputs": [
    {
     "name": "stdout",
     "output_type": "stream",
     "text": [
      "<JOB DESCRIPTION STARTS HERE>\n",
      "**Key Skills, Qualifications, and Experience:**\n",
      "\n",
      "* 10+ years of experience as a Senior Data Scientist\n",
      "* Expertise in machine learning, statistical modeling, and big data analytics\n",
      "* Proven track record of leading cross-functional teams and implementing data-driven strategies\n",
      "* Strong leadership and project management skills\n",
      "* Experience in developing and deploying fraud detection systems\n",
      "* Experience in building and maintaining customer segmentation models\n",
      "* Excellent communication and presentation skills\n",
      "* Master's degree in Data Science or a related field <JOB DESCRIPTION ENDS HERE>\n"
     ]
    }
   ],
   "execution_count": 17
  },
  {
   "metadata": {},
   "cell_type": "markdown",
   "source": "### Resume Comparison using JD",
   "id": "91b2267501f93b02"
  },
  {
   "metadata": {
    "ExecuteTime": {
     "end_time": "2025-03-10T13:31:00.725943Z",
     "start_time": "2025-03-10T13:30:55.773563Z"
    }
   },
   "cell_type": "code",
   "source": [
    "prompt_input = comparison_prompt.format(resume_content, job_description_content)\n",
    "output = chain.predict(input=prompt_input)\n",
    "print(output)"
   ],
   "id": "23c84d02857cfa62",
   "outputs": [
    {
     "name": "stdout",
     "output_type": "stream",
     "text": [
      "The resume and job description have some matching skills and experience, but there are also some gaps.\n",
      "\n",
      "**Matching Skills and Experience:**\n",
      "\n",
      "* Machine learning\n",
      "* Statistical modeling\n",
      "* Data analysis\n",
      "* Python\n",
      "* R\n",
      "* SQL\n",
      "\n",
      "**Gaps:**\n",
      "\n",
      "* **Control systems and feedback systems:** The job description requires experience in control systems and feedback systems, but the resume does not mention this.\n",
      "* **Data engineering:** The job description requires strong experience in data engineering, but the resume only mentions data analysis.\n",
      "* **Neural networks:** The job description requires experience in neural networks, but the resume does not mention this.\n",
      "* **Time series analysis:** The job description requires experience in time series analysis, but the resume does not mention this.\n",
      "* **Azure:** The job description requires experience in Azure, but the resume does not mention this.\n",
      "* **Hadoop:** The job description requires experience in Hadoop, but the resume does not mention this.\n",
      "* **Scala:** The job description requires experience in Scala, but the resume does not mention this.\n",
      "* **Data privacy:** The job description requires experience in data privacy, but the resume does not mention this.\n",
      "* **IoT based instrumentation design:** The job description requires experience in IoT based instrumentation design, but the resume does not mention this.\n",
      "* **Power BI:** The job description requires experience in Power BI, but the resume does not mention this.\n",
      "* **Qlikview:** The job description requires experience in Qlikview, but the resume does not mention this.\n",
      "* **Tableau:** The job description requires experience in Tableau, but the resume does not mention this.\n",
      "* **Plant/component models:** The job description requires experience in working with plant/component models, but the resume does not mention this.\n",
      "* **Integration of models into SIL/MIL/HIL evaluations:** The job description requires experience in integrating models into SIL/MIL/HIL evaluations, but the resume does not mention this.\n",
      "\n",
      "Overall, the candidate's resume does not fully meet the requirements of the job description. The candidate has some of the required skills and experience, but there are some gaps that would need to be addressed in order to be a competitive candidate for this role.\n"
     ]
    }
   ],
   "execution_count": 19
  },
  {
   "metadata": {},
   "cell_type": "markdown",
   "source": "### Gap Analysis wrt JD",
   "id": "e55cf5c32b8ff7"
  },
  {
   "metadata": {
    "ExecuteTime": {
     "end_time": "2025-03-10T18:38:46.436690Z",
     "start_time": "2025-03-10T18:38:40.579075Z"
    }
   },
   "cell_type": "code",
   "source": [
    "prompt_input = gap_analysis_prompt.format(resume_content, job_description_content)\n",
    "output = chain.predict(input=prompt_input)\n",
    "print(output)"
   ],
   "id": "8031a25fd020a9cb",
   "outputs": [
    {
     "name": "stdout",
     "output_type": "stream",
     "text": [
      "Compare the skills and experience detailed in this resume: <RESUME STARTS HERE> \n",
      "senior data scientist  \n",
      "example by resume genius  \n",
      "chicago, il  •  your.email @email.com •  ( 312) 875-3382\n",
      "\n",
      " \n",
      "accomplished senior data scientist with 10+ years of experience driving innovative solutions and delivering\n",
      "\n",
      "actionable insights. expertise in machine learning, statistical modeling, and big data analytics.\n",
      "proven track record of \n",
      "leading cross -functional te ams and implementing data -driven strategies that have\n",
      "generated $50m+ in revenue.  \n",
      "professional experience  \n",
      " \n",
      "senior data scientist  \n",
      "hargrove tech , chicago,\n",
      "il  \n",
      "august 20 xx–present  \n",
      " lead a team of 8 data scientists in developing and implementing advanced machine\n",
      "learning models, resulting \n",
      "in a 25% increase in predictive accuracy  \n",
      " spearheaded a company -wide initiative\n",
      "to optimize data pipelines, reducing processing time by 40% and \n",
      "saving $1.2m annually  \n",
      " collaborate with\n",
      "cross -functional teams to develop data -driven strategies, contributing to a 15% increase in \n",
      "overall revenue\n",
      "\n",
      "lead data scientist  \n",
      "suntrust analytics , chicago, il  \n",
      "july 20 xx–august 20 xx \n",
      " developed and deployed\n",
      "a real -time fraud detection system using ensemble learning techniques, saving the \n",
      "company $3.5m in potential\n",
      "losses  \n",
      " built and maintained a customer segmentation model using clustering algorithms, resulting in a 20%\n",
      "increase \n",
      "in targeted marketing roi  \n",
      " conducted regular workshops and training sessions on advanced\n",
      "data science techniques, upskilling the team \n",
      "and improving overall performance by 30%  \n",
      "data analyst\n",
      "\n",
      "maverick solutions, new york, ny  \n",
      "july 20 xx–august 20 xx \n",
      " analyzed large datasets using sql and\n",
      "python, providing actionable insights to business stakeholders  \n",
      " developed and maintained etl processes,\n",
      "ensuring timely and accurate data integration from multiple \n",
      "sources  \n",
      " created ad -hoc reports and analyses,\n",
      "contributing to data -driven decision making  \n",
      "education  \n",
      " \n",
      "new york university , new york, ny  \n",
      "ms in data science  \n",
      "may 20xx  \n",
      "additional skills  \n",
      " \n",
      "● machine learning:  supervised learning, unsupervised learning, deep learning, neural networks, \n",
      "ensemble methods, natural language processing (nlp)  \n",
      "● statistical modeling:  regression analysis, time series analysis, bayesian inference, hypothesis \n",
      "testing, experimental design  \n",
      "● programming languages:  python, r, sql, java, scala  \n",
      " \n",
      "  \n",
      " \n",
      "dear job seeker,  \n",
      " \n",
      "if you’re looking for a classy resume template, you can’t do any better than \n",
      "the “milano”. its simple elegance is just what you need if you want to imbue \n",
      "your resume with a balance of professionalism and good taste — plus a \n",
      "dash of creativity.  \n",
      " \n",
      "everything on the milano is left -aligned, which helps the hiring manager \n",
      "quickly look through your resume by simply scanning down the page to \n",
      "identify relevant experience and skills.  \n",
      " \n",
      "if you’re still struggling to write your resume, here are some free resources \n",
      "to help you put together a resume that shows employers you’re the right \n",
      "person for the job:  \n",
      " \n",
      "·     free resume builder  \n",
      "·     how to write a resume  \n",
      "·     resume samples by industry  \n",
      " \n",
      "once you have a great resume, pair it with a convincing cover letter using \n",
      "our matching  2022 cover letter template . here are a few resources to help \n",
      "you write a cover letter that gives your application the boost it needs to \n",
      "land you an interview:  \n",
      "·     cover letter builder  \n",
      "·     how to write a cover letter  \n",
      "·     cover letter examples by industry  \n",
      " \n",
      " \n",
      " \n",
      "best regards,  \n",
      " \n",
      " \n",
      " \n",
      " \n",
      " \n",
      " \n",
      " \n",
      "important:  to delete the second page, right -click on the page and click “delete rows”\n",
      " <RESUME ENDS HERE> with the requirements listed in the job description: <JOB DESCRIPTION STARTS HERE> \n",
      "what do we do? \n",
      "\n",
      "we are the simulation and analytics team within volvo group trucks technology, a dynamic team working towards enabling the technology organization in evaluating futuristic products and services for volvo business units such as trucks, buses, construction equipment and marine\n",
      "\n",
      "the main tasks in our team are to meet our customer’s expectation on quality, fuel consumption and to comply with emission legislation. this is done by selecting engine hw-components and calibrate engine related functions. upcoming emission legislation requires development of advanced control strategies together with an optimized hardware and software. you will be an important contributor in this development. powertrain is the heart of the truck and is one of the focus areas within volvo group, which is at the forefront of sustainable transport solutions for tomorrow.\n",
      "\n",
      "what will you do? \n",
      "you will work in agile teams through good collaboration with our colleagues in software development and design teams all around the world.\n",
      "\n",
      "you along with the team will be responsible for understanding customer usage and performance of our products and for providing our solutions throughout entire product life cycle, from idea investigation and concept evaluation to industrialization and to aftermarket and maintenance. you will make meaningful interpretations, recommendations and eventually predictions from the data available from various sources to support our endeavor in moving towards data driven powertrain development\n",
      "\n",
      "you get the opportunity to follow your data driven models from script to test cell to verification in a truck and eventually to being used by our end customers.\n",
      "\n",
      "we have an agile way of working, where each team plan their activities in sprints and deliver solutions together as a team. we strive to have an open and honest environment within the teams, where it is easy to ask each other for support when needed. the tasks can be either part of a larger project or short tasks to improve products currently in production.\n",
      "\n",
      "you will get the opportunity to interact with highly committed colleagues from different cultures. we hope you will learn as much from us as we will from you.\n",
      "\n",
      " who are you? \n",
      "\n",
      "we believe that to be successful in this position, you are a team player, have strong experience in data engineering and analysis area, and a will to deliver. you have a knowledge of control systems and feedback systems (closed loop) in general with an exposure to numerical and data driven simulation of a system. you must have a proven experience in data modelling – regression, clustering, neural networks, time series etc. and should have used them in solving real-life challenges (prediction, automation, real time optimization etc).\n",
      "\n",
      "you have a willingness to learn and take more responsibility with can-do attitude.\n",
      "\n",
      "you will be greatly appreciated in this role if you have demonstrated predictive analysis and decision-making using data.\n",
      "\n",
      "if you are a master’s degree holder in mechanical/automobile/electronics/mechatronics engineering with fantastic analytical skills, have gained a strong domain understanding in powertrain engineering with proven skills in handling and analysing large set of data to make meaningful interpretations and if you believe that you can work smoothly with python ( including libraries like numpy, scipy, pandas, tensorflow) , r, sql, git, azure, hadoop and matlab/simulink, pyspark, c/c++/ scala then you can be a good fit into this role.\n",
      "\n",
      "experience of working with relational databases, data privacy and understanding of iot based instrumentation design with additional data logging to build or validate models is a big plus.\n",
      "\n",
      "a passion for turning data into knowledge with great visualizations using power bi, qlikview, tableau and an experience of working with plant/ component models, and integration of these models into sil/mil/hil evaluations would be an icing on the cake.\n",
      ". <JOB DESCRIPTION ENDS HERE> Identify any gaps or mismatches and list them out specificly. Please provide examples on how to fulfill those gaps.\n",
      "**Gaps and Mismatches:**\n",
      "\n",
      "* **Control systems and feedback systems:** The job description requires experience in control systems and feedback systems, but the resume does not mention this.\n",
      "    * **Example of how to fulfill this gap:** Take a course or certification in control systems and feedback systems.\n",
      "\n",
      "* **Knowledge of hardware and software development:** The job description requires knowledge of hardware and software development, but the resume does not mention this.\n",
      "    * **Example of how to fulfill this gap:** Take courses or certifications in hardware and software development.\n",
      "\n",
      "* **Experience in developing and implementing advanced control strategies:** The job description requires experience in developing and implementing advanced control strategies, but the resume does not mention this.\n",
      "    * **Example of how to fulfill this gap:** Gain experience in developing and implementing advanced control strategies through projects or coursework.\n",
      "\n",
      "* **Experience in working with plant/component models and integrating them into SIL/MIL/HIL evaluations:** The job description requires experience in working with plant/component models and integrating them into SIL/MIL/HIL evaluations, but the resume does not mention this.\n",
      "    * **Example of how to fulfill this gap:** Gain experience in working with plant/component models and integrating them into SIL/MIL/HIL evaluations through projects or coursework.\n",
      "\n",
      "\n",
      "**Matching Skills and Experience:**\n",
      "\n",
      "* **Machine learning**\n",
      "* **Statistical modeling**\n",
      "* **Data analysis**\n",
      "* **Python**\n",
      "* **R**\n",
      "* **SQL**\n",
      "\n",
      "\n",
      "**Additional Skills and Experience that the Candidate Possesses but are not Mentioned in the Job Description:**\n",
      "\n",
      "* **Leading cross-functional teams**\n",
      "* **Implementing data-driven strategies**\n",
      "* **Generating revenue**\n",
      "\n",
      "\n",
      "Overall, the candidate has a strong foundation in data science and analytics, but there are some gaps in their experience that would need to be addressed in order to be a competitive candidate for this role. The candidate could consider taking courses or certifications in control systems and feedback systems, hardware and software development, and advanced control strategies. They could also gain experience in working with plant/component models and integrating them into SIL/MIL/HIL evaluations through projects or coursework.\n"
     ]
    }
   ],
   "execution_count": 22
  },
  {
   "metadata": {},
   "cell_type": "markdown",
   "source": "### How to improve experience",
   "id": "e71086bf71b85d85"
  },
  {
   "metadata": {
    "ExecuteTime": {
     "end_time": "2025-03-10T18:41:17.581411Z",
     "start_time": "2025-03-10T18:41:06.282945Z"
    }
   },
   "cell_type": "code",
   "source": [
    "prompt_input = experience_enhancement_prompt.format(resume_content, job_description_content)\n",
    "output = chain.predict(input=prompt_input)\n",
    "print(output)"
   ],
   "id": "743d195410a640d1",
   "outputs": [
    {
     "name": "stdout",
     "output_type": "stream",
     "text": [
      "**Practical Activities and Steps to Gain or Improve Experience:**\n",
      "\n",
      "* **Control systems and feedback systems:** Take a course or certification in control systems and feedback systems.\n",
      "* **Hardware and software development:** Take courses or certifications in hardware and software development.\n",
      "* **Advanced control strategies:** Gain experience in developing and implementing advanced control strategies through projects or coursework.\n",
      "* **Working with plant/component models and integrating them into SIL/MIL/HIL evaluations:** Gain experience in working with plant/component models and integrating them into SIL/MIL/HIL evaluations through projects or coursework.\n",
      "\n",
      "**Additional Qualifications or Certifications:**\n",
      "\n",
      "* Master's degree in mechanical/automobile/electronics/mechatronics engineering\n",
      "* Certifications in data science, machine learning, or related fields\n",
      "* Experience with relational databases, data privacy, and IoT based instrumentation design\n",
      "* Familiarity with data visualization tools such as Power BI, Qlikview, and Tableau\n"
     ]
    }
   ],
   "execution_count": 25
  },
  {
   "metadata": {},
   "cell_type": "markdown",
   "source": "### Resume Reformating",
   "id": "cabe4cef1e6ca670"
  },
  {
   "metadata": {
    "ExecuteTime": {
     "end_time": "2025-03-10T18:41:46.151258Z",
     "start_time": "2025-03-10T18:41:42.893906Z"
    }
   },
   "cell_type": "code",
   "source": [
    "prompt_input = resume_formatting_prompt.format(resume_content, job_description_content)\n",
    "output = chain.predict(input=prompt_input)\n",
    "print(output)"
   ],
   "id": "c0c8cf2769b0555f",
   "outputs": [
    {
     "name": "stdout",
     "output_type": "stream",
     "text": [
      "**Formatting Recommendations:**\n",
      "\n",
      "* **Use consistent spacing and alignment:** Ensure that sections, lines, and text elements are evenly spaced and aligned to create a clean and organized appearance.\n",
      "* **Utilize headings and subheadings:** Break up your resume into logical sections using headings and subheadings. This will make it easier for recruiters to quickly skim and locate relevant information.\n",
      "* **Highlight important information:** Use bolding, italics, or underlining to emphasize important keywords or accomplishments that you want to draw attention to.\n",
      "* **Incorporate white space:** White space is essential for visual appeal and readability. Leave appropriate margins and spacing between sections to make your resume less cluttered and easier on the eyes.\n",
      "* **Consider using a resume template:** Professional resume templates can provide structure and guidance, ensuring a visually appealing and well-organized resume.\n",
      "* **Proofread carefully:** Before submitting your resume, carefully proofread it for any errors in grammar, spelling, or formatting. A polished and error-free resume conveys attention to detail and professionalism.\n"
     ]
    }
   ],
   "execution_count": 27
  },
  {
   "metadata": {},
   "cell_type": "markdown",
   "source": "### Resume Length Analysis",
   "id": "5c63c0f2b32e7620"
  },
  {
   "metadata": {
    "ExecuteTime": {
     "end_time": "2025-03-10T18:43:29.384444Z",
     "start_time": "2025-03-10T18:43:25.867481Z"
    }
   },
   "cell_type": "code",
   "source": [
    "prompt_input = resume_length_prompt.format(resume_content, job_description_content)\n",
    "output = chain.predict(input=prompt_input)\n",
    "print(output)"
   ],
   "id": "17dfde72b0fff15",
   "outputs": [
    {
     "name": "stdout",
     "output_type": "stream",
     "text": [
      "**Strategies for Adjusting Resume Length:**\n",
      "\n",
      "* **Condense bullet points:** Combine related bullet points into more concise and impactful statements.\n",
      "* **Use action verbs:** Replace common verbs with stronger action verbs to highlight your accomplishments.\n",
      "* **Quantify achievements:** Use specific numbers and metrics to demonstrate the results of your work.\n",
      "* **Remove unnecessary details:** Trim down descriptions to focus on the most relevant and essential information.\n",
      "* **Reduce formatting:** Consider using less spacing, smaller font sizes, and fewer headings to save space.\n",
      "* **Consider a two-column format:** This can help you present more information in a compact way.\n",
      "* **Use a chronological format:** This format is preferred by many recruiters as it allows them to quickly scan your experience in reverse chronological order.\n",
      "* **Tailor to the job description:** Review the job description and highlight the most relevant experience and skills in your resume.\n"
     ]
    }
   ],
   "execution_count": 28
  },
  {
   "metadata": {},
   "cell_type": "code",
   "outputs": [],
   "execution_count": null,
   "source": "",
   "id": "c26e6bc1699d4e7"
  }
 ],
 "metadata": {
  "kernelspec": {
   "display_name": ".venv",
   "language": "python",
   "name": "python3"
  },
  "language_info": {
   "codemirror_mode": {
    "name": "ipython",
    "version": 3
   },
   "file_extension": ".py",
   "mimetype": "text/x-python",
   "name": "python",
   "nbconvert_exporter": "python",
   "pygments_lexer": "ipython3",
   "version": "3.11.11"
  }
 },
 "nbformat": 4,
 "nbformat_minor": 5
}
