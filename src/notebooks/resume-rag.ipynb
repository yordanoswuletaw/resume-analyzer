{
 "cells": [
  {
   "cell_type": "code",
   "id": "initial_id",
   "metadata": {
    "collapsed": true,
    "ExecuteTime": {
     "end_time": "2025-03-11T05:25:39.965394Z",
     "start_time": "2025-03-11T05:25:39.943115Z"
    }
   },
   "source": [
    "import os\n",
    "\n",
    "from langchain import ConversationChain\n",
    "from langchain_core.messages import SystemMessage\n",
    "from langchain_core.prompts import ChatPromptTemplate, HumanMessagePromptTemplate  \n",
    "from langchain.memory import ConversationBufferWindowMemory\n",
    "from langchain_google_vertexai import VertexAI"
   ],
   "outputs": [],
   "execution_count": 45
  },
  {
   "cell_type": "code",
   "id": "1e9537c0",
   "metadata": {
    "ExecuteTime": {
     "end_time": "2025-03-11T05:25:40.058404Z",
     "start_time": "2025-03-11T05:25:40.045269Z"
    }
   },
   "source": "model_name = \"gemini-1.0-pro-001\"",
   "outputs": [],
   "execution_count": 46
  },
  {
   "cell_type": "code",
   "id": "b44643d3",
   "metadata": {
    "ExecuteTime": {
     "end_time": "2025-03-11T05:25:40.088364Z",
     "start_time": "2025-03-11T05:25:40.080379Z"
    }
   },
   "source": [
    "template_content = \"\"\"You are a helpful assistant. You do not respond as 'User' or pretend to be 'User'. You only \n",
    "respond once as 'assistant'. \n",
    "\n",
    "System Role: Resume Reviewer \n",
    "\n",
    "Your role is to act as a resume coach. You will assist users in improving their resumes to better align with specific \n",
    "job descriptions. Provide professional advice on resume building, interview preparation, and career development. \n",
    "Offer constructive feedback and encouragement. Whenever you are given a resume and a job description, there will be \n",
    "tokens added before and after the resume and job description. The tokens are as follows: <RESUME STARTS HERE> and \n",
    "<RESUME ENDS HERE> for the resume and <JOB DESCRIPTION STARTS HERE> and <JOB DESCRIPTION ENDS HERE> for the job \n",
    "description. Utilize these tokens to provide feedback and suggestions and clearly segregate the resume and job\n",
    "description. Do not mix up the content of the resume and job description. In case the resume or job requirements \n",
    "in the description do not align with each other, do not mix up the content of the resume and job description and \n",
    "keep them separate and process them accordingly. Provide feedback based only on the content provided.\n",
    "\"\"\"\n",
    "\n",
    "resume_analysis_prompt = \"Provide a detailed summary of the candidate's skills, experience, and qualifications based on the content of the following resume: <RESUME STARTS HERE> {}. <RESUME ENDS HERE>\"\n",
    "job_description_analysis_prompt = \"List the key skills, qualifications, and experience required as outlined in the following job description: <JOB DESCRIPTION STARTS HERE> {}. <JOB DESCRIPTION ENDS HERE>\"\n",
    "comparison_prompt = \"Compare the resume: <RESUME STARTS HERE> {}. <RESUME ENDS HERE> with the job description: <JOB DESCRIPTION STARTS HERE> {}.<JOB DESCRIPTION ENDS HERE> Do they match? If not, what are the gaps? Do not make any assumptions about the candidate's skills or experience or the job requirements.\"\n",
    "gap_analysis_prompt = \"Compare the skills and experience detailed in this resume: <RESUME STARTS HERE> {} <RESUME ENDS HERE> with the requirements listed in the job description: <JOB DESCRIPTION STARTS HERE> {}. <JOB DESCRIPTION ENDS HERE> Identify any gaps or mismatches and list them out specificly. Please provide examples on how to fulfill those gaps.\"\n",
    "experience_enhancement_prompt = \"Based on the candidate's experience outlined in this resume: <RESUME STARTS HERE> {} <RESUME ENDS HERE>, recommend practical activities or steps to gain or improve the experience aligned with the needs of this role: <JOB DESCRIPTION STARTS HERE> {}. <JOB DESCRIPTION ENDS HERE>. Include recommendations for additional qualifications or certifications.\"\n",
    "resume_formatting_prompt = \"Offer guidance on how the candidate can enhance the formatting of their resume: <RESUME STARTS HERE> {} <RESUME ENDS HERE> to improve visual appeal and readability.\"\n",
    "resume_length_prompt = \"Recommend strategies for the candidate to adjust the length of their resume: <RESUME STARTS HERE> {} <RESUME ENDS HERE>, ensuring it is concise while remaining aligned with the requirements in the job description: <JOB DESCRIPTION STARTS HERE> {}. <JOB DESCRIPTION ENDS HERE>\""
   ],
   "outputs": [],
   "execution_count": 47
  },
  {
   "metadata": {},
   "cell_type": "markdown",
   "source": "### Analyze Resume",
   "id": "ce2d6cad5e282d24"
  },
  {
   "metadata": {
    "ExecuteTime": {
     "end_time": "2025-03-11T05:25:40.124081Z",
     "start_time": "2025-03-11T05:25:40.112935Z"
    }
   },
   "cell_type": "code",
   "source": [
    "def generate_response(prompt_input):\n",
    "    output = resume_chain.predict(input=prompt_input)\n",
    "    return output"
   ],
   "id": "4f18a5361acfbb88",
   "outputs": [],
   "execution_count": 48
  },
  {
   "metadata": {
    "ExecuteTime": {
     "end_time": "2025-03-11T05:25:40.160004Z",
     "start_time": "2025-03-11T05:25:40.149424Z"
    }
   },
   "cell_type": "code",
   "source": [
    "system_message = SystemMessage(content=template_content)\n",
    "human_message = HumanMessagePromptTemplate.from_template('{history} User:{input} Assistant;')\n",
    "prompt_template = ChatPromptTemplate(messages=[system_message, human_message], validate_template=True)\n",
    "memory = ConversationBufferWindowMemory(k=3)"
   ],
   "id": "17ce48b79829884d",
   "outputs": [],
   "execution_count": 49
  },
  {
   "metadata": {
    "ExecuteTime": {
     "end_time": "2025-03-11T05:25:40.202905Z",
     "start_time": "2025-03-11T05:25:40.195095Z"
    }
   },
   "cell_type": "code",
   "source": "llm = VertexAI(model_name=model_name)",
   "id": "879878fc12608d56",
   "outputs": [],
   "execution_count": 50
  },
  {
   "metadata": {
    "ExecuteTime": {
     "end_time": "2025-03-11T05:40:56.493192Z",
     "start_time": "2025-03-11T05:40:56.489584Z"
    }
   },
   "cell_type": "code",
   "source": [
    "chain = ConversationChain(\n",
    "    llm=llm,\n",
    "    prompt=prompt_template,\n",
    "    memory=memory,\n",
    "    verbose=False,\n",
    ")"
   ],
   "id": "a28a9416ab0613eb",
   "outputs": [],
   "execution_count": 62
  },
  {
   "metadata": {
    "ExecuteTime": {
     "end_time": "2025-03-11T05:25:40.293111Z",
     "start_time": "2025-03-11T05:25:40.283874Z"
    }
   },
   "cell_type": "code",
   "source": [
    "resume_content = \"\"\"\n",
    "senior data scientist  \\nexample by resume genius  \\nchicago, il  •  your.email @email.com •  ( 312) 875-3382\n",
    "\\n \\naccomplished senior data scientist with 10+ years of experience driving innovative solutions and delivering\n",
    "\\nactionable insights. expertise in machine learning, statistical modeling, and big data analytics.\n",
    "proven track record of \\nleading cross -functional te ams and implementing data -driven strategies that have\n",
    "generated $50m+ in revenue.  \\nprofessional experience  \\n \\nsenior data scientist  \\nhargrove tech , chicago,\n",
    "il  \\naugust 20 xx–present  \\n lead a team of 8 data scientists in developing and implementing advanced machine\n",
    "learning models, resulting \\nin a 25% increase in predictive accuracy  \\n spearheaded a company -wide initiative\n",
    "to optimize data pipelines, reducing processing time by 40% and \\nsaving $1.2m annually  \\n collaborate with\n",
    "cross -functional teams to develop data -driven strategies, contributing to a 15% increase in \\noverall revenue\n",
    "\\nlead data scientist  \\nsuntrust analytics , chicago, il  \\njuly 20 xx–august 20 xx \\n developed and deployed\n",
    "a real -time fraud detection system using ensemble learning techniques, saving the \\ncompany $3.5m in potential\n",
    "losses  \\n built and maintained a customer segmentation model using clustering algorithms, resulting in a 20%\n",
    "increase \\nin targeted marketing roi  \\n conducted regular workshops and training sessions on advanced\n",
    "data science techniques, upskilling the team \\nand improving overall performance by 30%  \\ndata analyst\n",
    "\\nmaverick solutions, new york, ny  \\njuly 20 xx–august 20 xx \\n analyzed large datasets using sql and\n",
    "python, providing actionable insights to business stakeholders  \\n developed and maintained etl processes,\n",
    "ensuring timely and accurate data integration from multiple \\nsources  \\n created ad -hoc reports and analyses,\n",
    "contributing to data -driven decision making  \\neducation  \\n \\nnew york university , new york, ny  \\nms in data science  \\nmay 20xx  \\nadditional skills  \\n \\n● machine learning:  supervised learning, unsupervised learning, deep learning, neural networks, \\nensemble methods, natural language processing (nlp)  \\n● statistical modeling:  regression analysis, time series analysis, bayesian inference, hypothesis \\ntesting, experimental design  \\n● programming languages:  python, r, sql, java, scala  \\n \\n  \\n \\ndear job seeker,  \\n \\nif you’re looking for a classy resume template, you can’t do any better than \\nthe “milano”. its simple elegance is just what you need if you want to imbue \\nyour resume with a balance of professionalism and good taste — plus a \\ndash of creativity.  \\n \\neverything on the milano is left -aligned, which helps the hiring manager \\nquickly look through your resume by simply scanning down the page to \\nidentify relevant experience and skills.  \\n \\nif you’re still struggling to write your resume, here are some free resources \\nto help you put together a resume that shows employers you’re the right \\nperson for the job:  \\n \\n·     free resume builder  \\n·     how to write a resume  \\n·     resume samples by industry  \\n \\nonce you have a great resume, pair it with a convincing cover letter using \\nour matching  2022 cover letter template . here are a few resources to help \\nyou write a cover letter that gives your application the boost it needs to \\nland you an interview:  \\n·     cover letter builder  \\n·     how to write a cover letter  \\n·     cover letter examples by industry  \\n \\n \\n \\nbest regards,  \\n \\n \\n \\n \\n \\n \\n \\nimportant:  to delete the second page, right -click on the page and click “delete rows”\n",
    "\"\"\""
   ],
   "id": "bc96f8bb35b6e132",
   "outputs": [],
   "execution_count": 52
  },
  {
   "metadata": {
    "ExecuteTime": {
     "end_time": "2025-03-11T05:25:40.341912Z",
     "start_time": "2025-03-11T05:25:40.326596Z"
    }
   },
   "cell_type": "code",
   "source": [
    "job_description_content=\"\"\"\n",
    "what do we do? \\n\\nwe are the simulation and analytics team within volvo group trucks technology, a dynamic team working towards enabling the technology organization in evaluating futuristic products and services for volvo business units such as trucks, buses, construction equipment and marine\\n\\nthe main tasks in our team are to meet our customer’s expectation on quality, fuel consumption and to comply with emission legislation. this is done by selecting engine hw-components and calibrate engine related functions. upcoming emission legislation requires development of advanced control strategies together with an optimized hardware and software. you will be an important contributor in this development. powertrain is the heart of the truck and is one of the focus areas within volvo group, which is at the forefront of sustainable transport solutions for tomorrow.\\n\\nwhat will you do? \\nyou will work in agile teams through good collaboration with our colleagues in software development and design teams all around the world.\\n\\nyou along with the team will be responsible for understanding customer usage and performance of our products and for providing our solutions throughout entire product life cycle, from idea investigation and concept evaluation to industrialization and to aftermarket and maintenance. you will make meaningful interpretations, recommendations and eventually predictions from the data available from various sources to support our endeavor in moving towards data driven powertrain development\\n\\nyou get the opportunity to follow your data driven models from script to test cell to verification in a truck and eventually to being used by our end customers.\\n\\nwe have an agile way of working, where each team plan their activities in sprints and deliver solutions together as a team. we strive to have an open and honest environment within the teams, where it is easy to ask each other for support when needed. the tasks can be either part of a larger project or short tasks to improve products currently in production.\\n\\nyou will get the opportunity to interact with highly committed colleagues from different cultures. we hope you will learn as much from us as we will from you.\\n\\n who are you? \\n\\nwe believe that to be successful in this position, you are a team player, have strong experience in data engineering and analysis area, and a will to deliver. you have a knowledge of control systems and feedback systems (closed loop) in general with an exposure to numerical and data driven simulation of a system. you must have a proven experience in data modelling – regression, clustering, neural networks, time series etc. and should have used them in solving real-life challenges (prediction, automation, real time optimization etc).\\n\\nyou have a willingness to learn and take more responsibility with can-do attitude.\\n\\nyou will be greatly appreciated in this role if you have demonstrated predictive analysis and decision-making using data.\\n\\nif you are a master’s degree holder in mechanical/automobile/electronics/mechatronics engineering with fantastic analytical skills, have gained a strong domain understanding in powertrain engineering with proven skills in handling and analysing large set of data to make meaningful interpretations and if you believe that you can work smoothly with python ( including libraries like numpy, scipy, pandas, tensorflow) , r, sql, git, azure, hadoop and matlab/simulink, pyspark, c/c++/ scala then you can be a good fit into this role.\\n\\nexperience of working with relational databases, data privacy and understanding of iot based instrumentation design with additional data logging to build or validate models is a big plus.\\n\\na passion for turning data into knowledge with great visualizations using power bi, qlikview, tableau and an experience of working with plant/ component models, and integration of these models into sil/mil/hil evaluations would be an icing on the cake.\n",
    "\"\"\""
   ],
   "id": "92df2b1b2b2c51c3",
   "outputs": [],
   "execution_count": 53
  },
  {
   "metadata": {},
   "cell_type": "markdown",
   "source": "### Resume Analysis",
   "id": "e1326f5f094b1045"
  },
  {
   "metadata": {
    "ExecuteTime": {
     "end_time": "2025-03-11T05:25:47.209128Z",
     "start_time": "2025-03-11T05:25:40.373234Z"
    }
   },
   "cell_type": "code",
   "source": [
    "prompt_input = resume_analysis_prompt.format(resume_content, job_description_content)\n",
    "output = chain.predict(input=prompt_input)\n",
    "print(output)"
   ],
   "id": "6658be3c717539d4",
   "outputs": [
    {
     "name": "stdout",
     "output_type": "stream",
     "text": [
      "**Summary:**\n",
      "\n",
      "The candidate is an accomplished Senior Data Scientist with over 10 years of experience leading cross-functional teams and implementing data-driven strategies that have generated significant revenue. Their expertise lies in machine learning, statistical modeling, and big data analytics.\n",
      "\n",
      "**Skills:**\n",
      "\n",
      "* Machine Learning: Supervised learning, unsupervised learning, deep learning, neural networks, ensemble methods, Natural Language Processing (NLP)\n",
      "* Statistical Modeling: Regression analysis, time series analysis, Bayesian inference, hypothesis testing, experimental design\n",
      "* Programming Languages: Python, R, SQL, Java, Scala\n",
      "\n",
      "**Experience:**\n",
      "\n",
      "**Senior Data Scientist**, Hargrove Tech, Chicago, IL (August 20XX - Present)\n",
      "* Led a team of 8 data scientists in developing and implementing advanced machine learning models, resulting in a 25% increase in predictive accuracy.\n",
      "* Spearheaded a company-wide initiative to optimize data pipelines, reducing processing time by 40% and saving $1.2 million annually.\n",
      "* Collaborated with cross-functional teams to develop data-driven strategies, contributing to a 15% increase in overall revenue.\n",
      "\n",
      "**Lead Data Scientist**, Suntrust Analytics, Chicago, IL (July 20XX - August 20XX)\n",
      "* Developed and deployed a real-time fraud detection system using ensemble learning techniques, saving the company $3.5 million in potential losses.\n",
      "* Built and maintained a customer segmentation model using clustering algorithms, resulting in a 20% increase in targeted marketing ROI.\n",
      "* Conducted regular workshops and training sessions on advanced data science techniques, upskilling the team and improving overall performance by 30%.\n",
      "\n",
      "**Data Analyst**, Maverick Solutions, New York, NY (July 20XX - August 20XX)\n",
      "* Analyzed large datasets using SQL and Python, providing actionable insights to business stakeholders.\n",
      "* Developed and maintained ETL processes, ensuring timely and accurate data integration from multiple sources.\n",
      "* Created ad-hoc reports and analyses, contributing to data-driven decision-making.\n",
      "\n",
      "**Education:**\n",
      "\n",
      "**New York University**, New York, NY\n",
      "* MS in Data Science (May 20XX)\n"
     ]
    }
   ],
   "execution_count": 54
  },
  {
   "metadata": {},
   "cell_type": "markdown",
   "source": "### Job Description Analysis",
   "id": "42629ad8604def9e"
  },
  {
   "metadata": {
    "ExecuteTime": {
     "end_time": "2025-03-11T05:25:49.209430Z",
     "start_time": "2025-03-11T05:25:47.288736Z"
    }
   },
   "cell_type": "code",
   "source": [
    "prompt_input = job_description_analysis_prompt.format(resume_content, job_description_content)\n",
    "output = chain.predict(input=prompt_input)\n",
    "print(output)"
   ],
   "id": "9af24eab27de43e1",
   "outputs": [
    {
     "name": "stdout",
     "output_type": "stream",
     "text": [
      "**Key Skills, Qualifications, and Experience:**\n",
      "\n",
      "* 10+ years of experience as a Senior Data Scientist\n",
      "* Expertise in machine learning, statistical modeling, and big data analytics\n",
      "* Proven track record of leading cross-functional teams and implementing data-driven strategies\n",
      "* Experience developing and implementing advanced machine learning models\n",
      "* Experience optimizing data pipelines and reducing processing time\n",
      "* Experience collaborating with cross-functional teams to develop data-driven strategies\n",
      "* Experience developing and deploying real-time fraud detection systems\n",
      "* Experience building and maintaining customer segmentation models\n",
      "* Experience conducting workshops and training sessions on advanced data science techniques\n"
     ]
    }
   ],
   "execution_count": 55
  },
  {
   "metadata": {},
   "cell_type": "markdown",
   "source": "### Resume Comparison using JD",
   "id": "91b2267501f93b02"
  },
  {
   "metadata": {
    "ExecuteTime": {
     "end_time": "2025-03-11T05:25:53.306560Z",
     "start_time": "2025-03-11T05:25:49.272845Z"
    }
   },
   "cell_type": "code",
   "source": [
    "prompt_input = comparison_prompt.format(resume_content, job_description_content)\n",
    "output = chain.predict(input=prompt_input)\n",
    "print(output)"
   ],
   "id": "23c84d02857cfa62",
   "outputs": [
    {
     "name": "stdout",
     "output_type": "stream",
     "text": [
      "**Matching Skills and Experience:**\n",
      "\n",
      "* **Data modeling:** The candidate has experience in regression, clustering, neural networks, and time series analysis, which matches the job requirement for data modeling.\n",
      "* **Data analysis:** The candidate has experience in analyzing large datasets to make meaningful interpretations, which aligns with the job requirement for data analysis.\n",
      "* **Programming languages:** The candidate has experience in Python (including libraries like numpy, scipy, pandas, tensorflow), R, SQL, and MATLAB/Simulink, which meets the job requirement for programming languages.\n",
      "\n",
      "**Gaps in Skills and Experience:**\n",
      "\n",
      "* **Control systems:** The candidate does not specifically mention experience in control systems and feedback systems, which is a requirement for this role.\n",
      "* **IoT-based instrumentation design:** The candidate does not mention experience in IoT-based instrumentation design or data logging, which is listed as an additional qualification for the role.\n",
      "* **Data visualization tools:** While the candidate does not explicitly mention experience with specific data visualization tools like Power BI or Tableau, their skills in data analysis and modeling may be transferable to these tools if provided with training or support.\n",
      "\n",
      "**Additional Considerations:**\n",
      "\n",
      "* The candidate has a Master's degree in Mechanical Engineering, which meets the requirement for a Master's degree in a relevant field. However, their domain understanding is in powertrain engineering, which may not align directly with the job's focus on simulation and analytics within the truck technology industry.\n"
     ]
    }
   ],
   "execution_count": 56
  },
  {
   "metadata": {},
   "cell_type": "markdown",
   "source": "### Gap Analysis wrt JD",
   "id": "e55cf5c32b8ff7"
  },
  {
   "metadata": {
    "ExecuteTime": {
     "end_time": "2025-03-11T05:25:58.661540Z",
     "start_time": "2025-03-11T05:25:53.328860Z"
    }
   },
   "cell_type": "code",
   "source": [
    "prompt_input = gap_analysis_prompt.format(resume_content, job_description_content)\n",
    "output = chain.predict(input=prompt_input)\n",
    "print(output)"
   ],
   "id": "8031a25fd020a9cb",
   "outputs": [
    {
     "name": "stdout",
     "output_type": "stream",
     "text": [
      "**Matching Skills and Experience:**\n",
      "\n",
      "* **Data modeling:** The candidate has experience in regression, clustering, neural networks, and time series analysis, which matches the job requirement for data modeling.\n",
      "* **Data analysis:** The candidate has experience in analyzing large datasets to make meaningful interpretations, which aligns with the job requirement for data analysis.\n",
      "* **Programming languages:** The candidate has experience in Python (including libraries like numpy, scipy, pandas, tensorflow), R, and SQL, which meets the job requirement for programming languages.\n",
      "\n",
      "**Gaps in Skills and Experience:**\n",
      "\n",
      "* **Powertrain Engineering:** The candidate's domain understanding is in general data science and analytics, while the job requires strong domain understanding in powertrain engineering. To fulfill this gap, the candidate could highlight any projects or experience they have related to powertrain engineering or demonstrate their ability to quickly learn and apply domain knowledge in a new context.\n",
      "* **Control Systems:** The candidate does not specifically mention experience in control systems and feedback systems, which is a requirement for this role. To address this gap, the candidate could take online courses or attend workshops on control systems to gain the necessary knowledge and skills.\n",
      "* **IoT-based instrumentation design:** The candidate does not mention experience in IoT-based instrumentation design or data logging. To bridge this gap, the candidate could express their willingness to learn and gain experience in these areas through projects or self-study.\n",
      "* **Data visualization tools:** While the candidate does not explicitly mention experience with specific data visualization tools like Power BI or Tableau, their skills in data analysis and modeling may be transferable to these tools if provided with training or support.\n",
      "\n",
      "**Additional Considerations:**\n",
      "\n",
      "* The candidate has a Master's degree in Data Science, which is different from the preferred Mechanical/Automobile/Electronics/Mechatronics Engineering degree. However, the candidate's strong analytical skills and experience in data science and analytics may compensate for this difference.\n",
      "* The candidate's experience in leading cross-functional teams and implementing data-driven strategies may be an asset in this role, as it demonstrates their ability to collaborate effectively and drive results.\n"
     ]
    }
   ],
   "execution_count": 57
  },
  {
   "metadata": {},
   "cell_type": "markdown",
   "source": "### How to improve experience",
   "id": "e71086bf71b85d85"
  },
  {
   "metadata": {
    "ExecuteTime": {
     "end_time": "2025-03-11T05:26:03.202436Z",
     "start_time": "2025-03-11T05:25:58.684701Z"
    }
   },
   "cell_type": "code",
   "source": [
    "prompt_input = experience_enhancement_prompt.format(resume_content, job_description_content)\n",
    "output = chain.predict(input=prompt_input)\n",
    "print(output)"
   ],
   "id": "743d195410a640d1",
   "outputs": [
    {
     "name": "stdout",
     "output_type": "stream",
     "text": [
      "**Practical Activities and Steps to Gain or Improve Experience:**\n",
      "\n",
      "* **Powertrain Engineering:** The candidate could consider enrolling in online courses or attending workshops on powertrain engineering to gain the necessary domain knowledge. They could also seek out projects or assignments that involve applying data science and analytics to powertrain-related problems.\n",
      "* **Control Systems:** To bridge this gap, the candidate could take online courses or attend workshops on control systems to gain the necessary knowledge and skills. They could also seek out projects or assignments that involve the application of control systems in a data-driven context.\n",
      "* **IoT-based Instrumentation Design:** The candidate could gain experience in IoT-based instrumentation design by working on projects that involve the design and implementation of IoT devices and sensors. They could also explore online resources or attend workshops to learn about the principles and best practices of IoT-based instrumentation design.\n",
      "\n",
      "**Additional Qualifications or Certifications:**\n",
      "\n",
      "* **Powertrain Engineering Certification:** The candidate could consider obtaining a certification in powertrain engineering to demonstrate their proficiency in this domain.\n",
      "* **Control Systems Certification:** To further enhance their credibility in this area, the candidate could pursue a certification in control systems.\n",
      "* **IoT-based Instrumentation Design Certification:** Earning a certification in IoT-based instrumentation design would provide the candidate with a recognized credential that validates their skills in this area.\n"
     ]
    }
   ],
   "execution_count": 58
  },
  {
   "metadata": {},
   "cell_type": "markdown",
   "source": "### Resume Reformating",
   "id": "cabe4cef1e6ca670"
  },
  {
   "metadata": {
    "ExecuteTime": {
     "end_time": "2025-03-11T05:26:07.664494Z",
     "start_time": "2025-03-11T05:26:03.232088Z"
    }
   },
   "cell_type": "code",
   "source": [
    "prompt_input = resume_formatting_prompt.format(resume_content, job_description_content)\n",
    "output = chain.predict(input=prompt_input)\n",
    "print(output)"
   ],
   "id": "c0c8cf2769b0555f",
   "outputs": [
    {
     "name": "stdout",
     "output_type": "stream",
     "text": [
      "**Formatting Enhancements:**\n",
      "\n",
      "* **Font and Size:** Use a professional font, such as Calibri, Arial, or Times New Roman, in a size that is easy to read (e.g., 11-12 pt).\n",
      "* **Margins:** Adjust the margins to ensure that the text is centered on the page and has a visually balanced appearance.\n",
      "* **Section Headings:** Use clear and concise section headings to organize the resume and make it easier to navigate. For example, use headings such as \"Professional Experience,\" \"Education,\" and \"Additional Skills.\"\n",
      "* **Bullet Points:** Use bullet points to list your responsibilities and accomplishments in each role. This will make the text more readable and visually appealing.\n",
      "* **White Space:** Use white space effectively to separate sections and create a clean and uncluttered look.\n",
      "* **Color:** Use subtle colors sparingly to highlight important sections or elements of the resume, such as the section headings.\n",
      "* **Proofreading:** Carefully proofread the resume for any errors in grammar, spelling, or formatting.\n"
     ]
    }
   ],
   "execution_count": 59
  },
  {
   "metadata": {},
   "cell_type": "markdown",
   "source": "### Resume Length Analysis",
   "id": "5c63c0f2b32e7620"
  },
  {
   "metadata": {
    "ExecuteTime": {
     "end_time": "2025-03-11T05:26:11.418913Z",
     "start_time": "2025-03-11T05:26:07.713671Z"
    }
   },
   "cell_type": "code",
   "source": [
    "prompt_input = resume_length_prompt.format(resume_content, job_description_content)\n",
    "output = chain.predict(input=prompt_input)\n",
    "print(output)"
   ],
   "id": "17dfde72b0fff15",
   "outputs": [
    {
     "name": "stdout",
     "output_type": "stream",
     "text": [
      "**Strategies to Adjust Resume Length:**\n",
      "\n",
      "* **Remove Redundant Information:** Carefully review the resume and identify any sections or bullet points that repeat the same information. Eliminate any unnecessary details to condense the resume.\n",
      "* **Use Concise Language:** Replace long sentences and phrases with shorter, more impactful language. Avoid using jargon or technical terms that may not be familiar to the hiring manager.\n",
      "* **Prioritize Relevant Experience:** Highlight the most relevant experience and skills that align with the job requirements. If there is less relevant experience, consider omitting or briefly summarizing less important roles.\n",
      "* **Use a Single Page:** Aim to keep the resume to a single page, especially if the candidate has less than 10 years of experience. This will make it easier for the hiring manager to quickly review the most important information.\n",
      "* **Adjust Font and Margins:** Use a smaller font size (e.g., 10-11 pt) and adjust the margins to maximize the amount of information on the page without making it cluttered.\n",
      "* **Consider a Skills Summary:** Include a concise skills summary at the beginning of the resume to highlight the candidate's most relevant abilities. This can help the hiring manager quickly identify the candidate's qualifications without having to read through the entire resume.\n"
     ]
    }
   ],
   "execution_count": 60
  },
  {
   "metadata": {
    "ExecuteTime": {
     "end_time": "2025-03-11T05:26:11.447437Z",
     "start_time": "2025-03-11T05:26:11.443712Z"
    }
   },
   "cell_type": "code",
   "source": "",
   "id": "c26e6bc1699d4e7",
   "outputs": [],
   "execution_count": null
  }
 ],
 "metadata": {
  "kernelspec": {
   "display_name": ".venv",
   "language": "python",
   "name": "python3"
  },
  "language_info": {
   "codemirror_mode": {
    "name": "ipython",
    "version": 3
   },
   "file_extension": ".py",
   "mimetype": "text/x-python",
   "name": "python",
   "nbconvert_exporter": "python",
   "pygments_lexer": "ipython3",
   "version": "3.11.11"
  }
 },
 "nbformat": 4,
 "nbformat_minor": 5
}
